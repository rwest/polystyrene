{
 "cells": [
  {
   "cell_type": "code",
   "execution_count": 1,
   "metadata": {},
   "outputs": [],
   "source": [
    "import numpy as np\n",
    "import matplotlib.pyplot as plt\n",
    "from scipy.integrate import odeint\n",
    "import math"
   ]
  },
  {
   "cell_type": "markdown",
   "metadata": {},
   "source": [
    "The three reactions to be simulated:\n",
    "\n",
    "Polystyrene -> Styrene\n",
    "\n",
    "Polystyrene -> Toluene\n",
    "\n",
    "Polystyrene -> Ethylbenzene (Benzene)\n",
    "\n",
    "Brian Lejeune/Prof. West"
   ]
  },
  {
   "cell_type": "code",
   "execution_count": 2,
   "metadata": {},
   "outputs": [],
   "source": [
    "#Polystyrene Properties\n",
    "\n",
    "PS_MW = 311600\n",
    "PS_Polydisperity = 2.39\n",
    "PS_Density = 1030 #kg/m^3\n",
    "PS_HeatVal = 49 #MJ/kg\n",
    "\n",
    "#Source Paper Reactor Properties\n",
    "\n",
    "Rctr_Pressure = 10^(-1) #Pa\n",
    "Rctr_TempLow = 613 #K\n",
    "Rctr_TempHigh = 663 #K\n",
    "Rctr_HeatRate1 = 3.33E-2\n",
    "Rctr_HeatRate2 = 8.03E-2\n",
    "Rctr_HeatRate3 = 1.67E-1\n",
    "\n",
    "Rctr_Ht = 0.34 #m\n",
    "Rctr_Hc = 0.205 #m\n",
    "Rctr_gam = 28\n",
    "Rctr_Dc = 0.123 #m\n",
    "Rctr_Di = 0.02 #m\n",
    "Rctr_Do = 0.01 #m\n",
    "\n",
    "#Our Reactor Properties\n",
    "Pyrocycle_T = 723.15 #K\n",
    "\n",
    "#Kinetic Properties\n",
    "\n",
    "# From microreactor\n",
    "PS_Ea = 83 #kJ/mol\n",
    "PS_ko = 1.82E4 #s^-1\n",
    "\n",
    "# From the spouted bed reactor\n",
    "PS_Ea = 123 #kJ/mol\n",
    "PS_ko = 1.27e7 # s^-1\n",
    "\n",
    "\n",
    "Sty_Ea = 123 #kJ/mol\n",
    "Sty_ko = 5.08E7 #s^-1\n",
    "Sty_mass = 104.15 # g/mol\n",
    "\n",
    "Met_Ea = 126 #kJ/mol\n",
    "Met_ko = 2.1E7 #s^-1\n",
    "Met_mass = 16.04 # g/mol\n",
    "\n",
    "Ben_Ea = 123 #kJ/mol\n",
    "Ben_ko = 1.47E7 #s^-1\n",
    "Ben_mass = 78.11 # g/mol\n",
    "\n",
    "Tol_Ea = 122 #kJ/mol\n",
    "Tol_ko = 1.19E7 #s^-1\n",
    "Tol_mass = 92.14 # g/mol\n",
    "\n",
    "#Constants\n",
    "R = 8.314E-3 #kJ/K*mol"
   ]
  },
  {
   "cell_type": "code",
   "execution_count": 3,
   "metadata": {},
   "outputs": [],
   "source": [
    "#Reaction Rate Calculations for Individual Products\n",
    "\n",
    "def PSReaction(PS):\n",
    "    k = PS_ko * math.exp(-1 * PS_Ea/(R * Pyrocycle_T))\n",
    "    return k * PS\n",
    "\n",
    "def StyReaction(PS):\n",
    "    k = Sty_ko * math.exp(-1 * Sty_Ea/(R * Pyrocycle_T))\n",
    "    return k * PS\n",
    "\n",
    "def MetReaction(PS):\n",
    "    k = Met_ko * math.exp(-1 * Met_Ea/(R * Pyrocycle_T))\n",
    "    return k * PS\n",
    "\n",
    "def BenReaction(PS):\n",
    "    k = Ben_ko * math.exp(-1 * Ben_Ea/(R * Pyrocycle_T))\n",
    "    return k * PS\n",
    "\n",
    "def TolReaction(PS):\n",
    "    k = Tol_ko * math.exp(-1 * Tol_Ea/(R * Pyrocycle_T))\n",
    "    return k * PS"
   ]
  },
  {
   "cell_type": "code",
   "execution_count": 4,
   "metadata": {},
   "outputs": [
    {
     "data": {
      "text/plain": [
       "0.06622089665137218"
      ]
     },
     "execution_count": 4,
     "metadata": {},
     "output_type": "execute_result"
    }
   ],
   "source": [
    "T = Pyrocycle_T\n",
    "Sty_ko * math.exp(-1*Sty_Ea/(R*T))"
   ]
  },
  {
   "cell_type": "code",
   "execution_count": 5,
   "metadata": {},
   "outputs": [
    {
     "data": {
      "text/plain": [
       "0.06622089665137218"
      ]
     },
     "execution_count": 5,
     "metadata": {},
     "output_type": "execute_result"
    }
   ],
   "source": [
    "StyReaction(1)"
   ]
  },
  {
   "cell_type": "code",
   "execution_count": 6,
   "metadata": {},
   "outputs": [
    {
     "data": {
      "text/plain": [
       "0.0191623460782514"
      ]
     },
     "execution_count": 6,
     "metadata": {},
     "output_type": "execute_result"
    }
   ],
   "source": [
    "BenReaction(1)"
   ]
  },
  {
   "cell_type": "code",
   "execution_count": 7,
   "metadata": {},
   "outputs": [],
   "source": [
    "#Reaction Kinetics for Overall Reaction\n",
    "\n",
    "def TotalReaction(C_array, t):\n",
    "    PS = C_array[0]\n",
    "    \n",
    "    #Establishing Reaction Rates from initial PS feed\n",
    "    Sty_r = StyReaction(PS)\n",
    "    #Met_r = MetReaction(PS)\n",
    "    Ben_r = BenReaction(PS)\n",
    "    Tol_r = TolReaction(PS)\n",
    "    \n",
    "    #Obtaining Rate of Generation for each species\n",
    "    \n",
    "    # dPSdt = -1 * (Sty_r + Ben_r + Tol_r)\n",
    "    dPSdt = -1 * PSReaction(PS)\n",
    "    dStydt = Sty_r\n",
    "    #dMetdt = Met_r\n",
    "    dBendt = Ben_r\n",
    "    dToldt = Tol_r\n",
    "    \n",
    "    return [dPSdt, dStydt, dBendt, dToldt]"
   ]
  },
  {
   "cell_type": "code",
   "execution_count": 8,
   "metadata": {},
   "outputs": [],
   "source": [
    "#Integrating Overall Reaction\n",
    "\n",
    "W_initial = [10, 0, 0, 0]\n",
    "t_interval = np.linspace(0, 400)\n",
    "\n",
    "Y_out_PS = odeint(TotalReaction, W_initial, t_interval)"
   ]
  },
  {
   "cell_type": "code",
   "execution_count": 9,
   "metadata": {},
   "outputs": [
    {
     "data": {
      "text/plain": [
       "array([[1.00000000e+01, 0.00000000e+00, 0.00000000e+00, 0.00000000e+00],\n",
       "       [8.73589505e+00, 5.05641979e+00, 1.46317659e+00, 1.39881756e+00],\n",
       "       [7.63158624e+00, 9.47365504e+00, 2.74139230e+00, 2.62080990e+00],\n",
       "       [6.66687364e+00, 1.33325054e+01, 3.85802815e+00, 3.68832959e+00],\n",
       "       [5.82411085e+00, 1.67035566e+01, 4.83350949e+00, 4.62090358e+00],\n",
       "       [5.08788211e+00, 1.96484716e+01, 5.68567976e+00, 5.43559044e+00],\n",
       "       [4.44472041e+00, 2.22211184e+01, 6.43012677e+00, 6.14729233e+00],\n",
       "       [3.88286112e+00, 2.44685555e+01, 7.08046784e+00, 6.76902761e+00],\n",
       "       [3.39202673e+00, 2.64318931e+01, 7.64859899e+00, 7.31216904e+00],\n",
       "       [2.96323895e+00, 2.81470442e+01, 8.14491239e+00, 7.78665169e+00],\n",
       "       [2.58865445e+00, 2.96453822e+01, 8.57848658e+00, 8.20115476e+00],\n",
       "       [2.26142136e+00, 3.09543145e+01, 8.95725244e+00, 8.56326029e+00],\n",
       "       [1.97555397e+00, 3.20977841e+01, 9.28813831e+00, 8.87959188e+00],\n",
       "       [1.72582323e+00, 3.30967071e+01, 9.57719674e+00, 9.15593583e+00],\n",
       "       [1.50766106e+00, 3.39693557e+01, 9.82971515e+00, 9.39734701e+00],\n",
       "       [1.31707689e+00, 3.47316925e+01, 1.00503126e+01, 9.60824128e+00],\n",
       "       [1.15058455e+00, 3.53976618e+01, 1.02430242e+01, 9.79247630e+00],\n",
       "       [1.00513859e+00, 3.59794456e+01, 1.04113750e+01, 9.95342208e+00],\n",
       "       [8.78078528e-01, 3.64876859e+01, 1.05584445e+01, 1.00940226e+01],\n",
       "       [7.67080189e-01, 3.69316792e+01, 1.06869229e+01, 1.02168498e+01],\n",
       "       [6.70113205e-01, 3.73195472e+01, 1.07991603e+01, 1.03241503e+01],\n",
       "       [5.85403865e-01, 3.76583845e+01, 1.08972097e+01, 1.04178869e+01],\n",
       "       [5.11402675e-01, 3.79543893e+01, 1.09828646e+01, 1.04997742e+01],\n",
       "       [4.46756012e-01, 3.82129760e+01, 1.10576919e+01, 1.05713101e+01],\n",
       "       [3.90281365e-01, 3.84388745e+01, 1.11230602e+01, 1.06338032e+01],\n",
       "       [3.40945705e-01, 3.86362172e+01, 1.11801652e+01, 1.06883964e+01],\n",
       "       [2.97846591e-01, 3.88086136e+01, 1.12300516e+01, 1.07360885e+01],\n",
       "       [2.60195657e-01, 3.89592174e+01, 1.12736318e+01, 1.07777518e+01],\n",
       "       [2.27304197e-01, 3.90907832e+01, 1.13117030e+01, 1.08141484e+01],\n",
       "       [1.98570563e-01, 3.92057177e+01, 1.13449616e+01, 1.08459441e+01],\n",
       "       [1.73469162e-01, 3.93061234e+01, 1.13740160e+01, 1.08737205e+01],\n",
       "       [1.51540840e-01, 3.93938366e+01, 1.13993976e+01, 1.08979857e+01],\n",
       "       [1.32384488e-01, 3.94704620e+01, 1.14215707e+01, 1.09191835e+01],\n",
       "       [1.15649701e-01, 3.95374012e+01, 1.14409409e+01, 1.09377017e+01],\n",
       "       [1.01030366e-01, 3.95958785e+01, 1.14578625e+01, 1.09538789e+01],\n",
       "       [8.82590680e-02, 3.96469637e+01, 1.14726450e+01, 1.09680112e+01],\n",
       "       [7.71021960e-02, 3.96915912e+01, 1.14855589e+01, 1.09803571e+01],\n",
       "       [6.73556697e-02, 3.97305773e+01, 1.14968403e+01, 1.09911423e+01],\n",
       "       [5.88412067e-02, 3.97646352e+01, 1.15066956e+01, 1.10005641e+01],\n",
       "       [5.14030626e-02, 3.97943877e+01, 1.15153051e+01, 1.10087949e+01],\n",
       "       [4.49051767e-02, 3.98203793e+01, 1.15228263e+01, 1.10159853e+01],\n",
       "       [3.92286916e-02, 3.98430852e+01, 1.15293967e+01, 1.10222667e+01],\n",
       "       [3.42697740e-02, 3.98629209e+01, 1.15351366e+01, 1.10277540e+01],\n",
       "       [2.99377153e-02, 3.98802491e+01, 1.15401508e+01, 1.10325478e+01],\n",
       "       [2.61532744e-02, 3.98953869e+01, 1.15445312e+01, 1.10367355e+01],\n",
       "       [2.28472263e-02, 3.99086111e+01, 1.15483579e+01, 1.10403939e+01],\n",
       "       [1.99590973e-02, 3.99201636e+01, 1.15517009e+01, 1.10435898e+01],\n",
       "       [1.74360584e-02, 3.99302558e+01, 1.15546213e+01, 1.10463817e+01],\n",
       "       [1.52319579e-02, 3.99390722e+01, 1.15571725e+01, 1.10488207e+01],\n",
       "       [1.33064786e-02, 3.99467741e+01, 1.15594012e+01, 1.10509514e+01]])"
      ]
     },
     "execution_count": 9,
     "metadata": {},
     "output_type": "execute_result"
    }
   ],
   "source": [
    "Y_out_PS"
   ]
  },
  {
   "cell_type": "code",
   "execution_count": 10,
   "metadata": {},
   "outputs": [
    {
     "data": {
      "text/plain": [
       "Text(0.5, 1.0, 'Plastic Mass vs. Time for Overall Kinetics Reaction')"
      ]
     },
     "execution_count": 10,
     "metadata": {},
     "output_type": "execute_result"
    },
    {
     "data": {
      "image/png": "[encoded data removed]",
      "text/plain": [
       "<Figure size 720x720 with 1 Axes>"
      ]
     },
     "metadata": {
      "needs_background": "light"
     },
     "output_type": "display_data"
    }
   ],
   "source": [
    "#Plotting the Concentrations of the Reactant and Products\n",
    "fig, ax = plt.subplots(figsize=(10,10))\n",
    "ax.plot(t_interval, Y_out_PS)\n",
    "ax.legend(['Polystyrene', 'Styrene', 'Benzene', 'Toluene'])\n",
    "ax.set_ylabel('Plastic Mass (kg)')\n",
    "ax.set_xlabel('Time (s)')\n",
    "ax.set_title('Plastic Mass vs. Time for Overall Kinetics Reaction')"
   ]
  },
  {
   "cell_type": "code",
   "execution_count": null,
   "metadata": {},
   "outputs": [],
   "source": []
  }
 ],
 "metadata": {
  "kernelspec": {
   "display_name": "Python 3",
   "language": "python",
   "name": "python3"
  },
  "language_info": {
   "codemirror_mode": {
    "name": "ipython",
    "version": 3
   },
   "file_extension": ".py",
   "mimetype": "text/x-python",
   "name": "python",
   "nbconvert_exporter": "python",
   "pygments_lexer": "ipython3",
   "version": "3.7.7"
  }
 },
 "nbformat": 4,
 "nbformat_minor": 4
}
