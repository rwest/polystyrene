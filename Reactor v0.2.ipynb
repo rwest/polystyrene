{
 "cells": [
  {
   "cell_type": "code",
   "execution_count": 1,
   "metadata": {},
   "outputs": [],
   "source": [
    "import numpy as np\n",
    "import matplotlib.pyplot as plt\n",
    "from scipy.integrate import odeint\n",
    "import math"
   ]
  },
  {
   "cell_type": "markdown",
   "metadata": {},
   "source": [
    "The three reactions to be simulated:\n",
    "\n",
    "Polystyrene -> Styrene\n",
    "\n",
    "Polystyrene -> Toluene\n",
    "\n",
    "Polystyrene -> Ethylbenzene (Benzene)\n",
    "\n",
    "Brian Lejeune/Prof. West"
   ]
  },
  {
   "cell_type": "code",
   "execution_count": 2,
   "metadata": {},
   "outputs": [],
   "source": [
    "#Polystyrene Properties\n",
    "\n",
    "PS_MW = 311600\n",
    "PS_Polydisperity = 2.39\n",
    "PS_Density = 1030 #kg/m^3\n",
    "PS_HeatVal = 49 #MJ/kg\n",
    "\n",
    "#Source Paper Reactor Properties\n",
    "\n",
    "Rctr_Pressure = 10^(-1) #Pa\n",
    "Rctr_TempLow = 613 #K\n",
    "Rctr_TempHigh = 663 #K\n",
    "Rctr_HeatRate1 = 3.33E-2\n",
    "Rctr_HeatRate2 = 8.03E-2\n",
    "Rctr_HeatRate3 = 1.67E-1\n",
    "\n",
    "Rctr_Ht = 0.34 #m\n",
    "Rctr_Hc = 0.205 #m\n",
    "Rctr_gam = 28\n",
    "Rctr_Dc = 0.123 #m\n",
    "Rctr_Di = 0.02 #m\n",
    "Rctr_Do = 0.01 #m\n",
    "\n",
    "#Our Reactor Properties\n",
    "Pyrocycle_T = 723.15 #K\n",
    "\n",
    "#Kinetic Properties\n",
    "\n",
    "# From microreactor\n",
    "PS_Ea = 83 #kJ/mol\n",
    "PS_ko = 1.82E4 #s^-1\n",
    "\n",
    "Sty_Ea = 123 #kJ/mol\n",
    "Sty_ko = 5.08E7 #s^-1\n",
    "Sty_mass = 104.15 # g/mol\n",
    "\n",
    "Met_Ea = 126 #kJ/mol\n",
    "Met_ko = 2.1E7 #s^-1\n",
    "Met_mass = 16.04 # g/mol\n",
    "\n",
    "Ben_Ea = 123 #kJ/mol\n",
    "Ben_ko = 1.47E7 #s^-1\n",
    "Ben_mass = 78.11 # g/mol\n",
    "\n",
    "Tol_Ea = 122 #kJ/mol\n",
    "Tol_ko = 1.19E7 #s^-1\n",
    "Tol_mass = 92.14 # g/mol\n",
    "\n",
    "#Constants\n",
    "R = 8.314E-3 #kJ/K*mol"
   ]
  },
  {
   "cell_type": "code",
   "execution_count": 3,
   "metadata": {},
   "outputs": [],
   "source": [
    "#Reaction Rate Calculations for Individual Products\n",
    "\n",
    "def PSReaction(PS):\n",
    "    k = PS_ko * math.exp(-1 * PS_Ea/(R * Pyrocycle_T))\n",
    "    return k * PS\n",
    "\n",
    "def StyReaction(PS):\n",
    "    k = Sty_ko * math.exp(-1 * Sty_Ea/(R * Pyrocycle_T))\n",
    "    return k * PS\n",
    "\n",
    "def MetReaction(PS):\n",
    "    k = Met_ko * math.exp(-1 * Met_Ea/(R * Pyrocycle_T))\n",
    "    return k * PS\n",
    "\n",
    "def BenReaction(PS):\n",
    "    k = Ben_ko * math.exp(-1 * Ben_Ea/(R * Pyrocycle_T))\n",
    "    return k * PS\n",
    "\n",
    "def TolReaction(PS):\n",
    "    k = Tol_ko * math.exp(-1 * Tol_Ea/(R * Pyrocycle_T))\n",
    "    return k * PS"
   ]
  },
  {
   "cell_type": "code",
   "execution_count": 4,
   "metadata": {},
   "outputs": [
    {
     "data": {
      "text/plain": [
       "0.06622089665137218"
      ]
     },
     "execution_count": 4,
     "metadata": {},
     "output_type": "execute_result"
    }
   ],
   "source": [
    "T = Pyrocycle_T\n",
    "Sty_ko * math.exp(-1*Sty_Ea/(R*T))"
   ]
  },
  {
   "cell_type": "code",
   "execution_count": 5,
   "metadata": {},
   "outputs": [
    {
     "data": {
      "text/plain": [
       "0.06622089665137218"
      ]
     },
     "execution_count": 5,
     "metadata": {},
     "output_type": "execute_result"
    }
   ],
   "source": [
    "StyReaction(1)"
   ]
  },
  {
   "cell_type": "code",
   "execution_count": 6,
   "metadata": {},
   "outputs": [
    {
     "data": {
      "text/plain": [
       "0.0191623460782514"
      ]
     },
     "execution_count": 6,
     "metadata": {},
     "output_type": "execute_result"
    }
   ],
   "source": [
    "BenReaction(1)"
   ]
  },
  {
   "cell_type": "code",
   "execution_count": 7,
   "metadata": {},
   "outputs": [],
   "source": [
    "#Reaction Kinetics for Overall Reaction\n",
    "\n",
    "def TotalReaction(C_array, t):\n",
    "    PS = C_array[0]\n",
    "    \n",
    "    #Establishing Reaction Rates from initial PS feed\n",
    "    Sty_r = StyReaction(PS)\n",
    "    #Met_r = MetReaction(PS)\n",
    "    Ben_r = BenReaction(PS)\n",
    "    Tol_r = TolReaction(PS)\n",
    "    \n",
    "    #Obtaining Rate of Generation for each species\n",
    "    \n",
    "    # dPSdt = -1 * (Sty_r + Ben_r + Tol_r)\n",
    "    dPSdt = -1 * PSReaction(PS)\n",
    "    dStydt = Sty_r\n",
    "    #dMetdt = Met_r\n",
    "    dBendt = Ben_r\n",
    "    dToldt = Tol_r\n",
    "    \n",
    "    return [dPSdt, dStydt, dBendt, dToldt]"
   ]
  },
  {
   "cell_type": "code",
   "execution_count": 8,
   "metadata": {},
   "outputs": [],
   "source": [
    "#Integrating Overall Reaction\n",
    "\n",
    "W_initial = [10, 0, 0, 0]\n",
    "t_interval = np.linspace(0, 400)\n",
    "\n",
    "Y_out_PS = odeint(TotalReaction, W_initial, t_interval)"
   ]
  },
  {
   "cell_type": "code",
   "execution_count": 9,
   "metadata": {},
   "outputs": [
    {
     "data": {
      "text/plain": [
       "array([[1.00000000e+01, 0.00000000e+00, 0.00000000e+00, 0.00000000e+00],\n",
       "       [8.60599858e+00, 5.01957978e+00, 1.45251620e+00, 1.38862607e+00],\n",
       "       [7.40632115e+00, 9.33942940e+00, 2.70255142e+00, 2.58367746e+00],\n",
       "       [6.37387893e+00, 1.30570914e+01, 3.77833157e+00, 3.61213853e+00],\n",
       "       [5.48535930e+00, 1.62565108e+01, 4.70414781e+00, 4.49723198e+00],\n",
       "       [4.72069942e+00, 1.90099307e+01, 5.50090514e+00, 5.25894328e+00],\n",
       "       [4.06263326e+00, 2.13795234e+01, 6.18659437e+00, 5.91447190e+00],\n",
       "       [3.49630161e+00, 2.34187945e+01, 6.77669841e+00, 6.47861974e+00],\n",
       "       [3.00891667e+00, 2.51737910e+01, 7.28454188e+00, 6.96412529e+00],\n",
       "       [2.58947326e+00, 2.66841407e+01, 7.72159190e+00, 7.38195130e+00],\n",
       "       [2.22850032e+00, 2.79839475e+01, 8.09771708e+00, 7.74153231e+00],\n",
       "       [1.91784707e+00, 2.91025610e+01, 8.42141036e+00, 8.05098767e+00],\n",
       "       [1.65049892e+00, 3.00652396e+01, 8.69998074e+00, 8.31730490e+00],\n",
       "       [1.42041914e+00, 3.08937207e+01, 8.93971838e+00, 8.54649748e+00],\n",
       "       [1.22241251e+00, 3.16067114e+01, 9.14603656e+00, 8.74374058e+00],\n",
       "       [1.05200804e+00, 3.22203111e+01, 9.32359395e+00, 8.91348797e+00],\n",
       "       [9.05357973e-01, 3.27483749e+01, 9.47639982e+00, 9.05957254e+00],\n",
       "       [7.79150946e-01, 3.32028265e+01, 9.60790453e+00, 9.18529291e+00],\n",
       "       [6.70537196e-01, 3.35939275e+01, 9.72107746e+00, 9.29348784e+00],\n",
       "       [5.77064218e-01, 3.39305090e+01, 9.81847407e+00, 9.38660038e+00],\n",
       "       [4.96621385e-01, 3.42201710e+01, 9.90229358e+00, 9.46673302e+00],\n",
       "       [4.27392295e-01, 3.44694541e+01, 9.97442864e+00, 9.53569516e+00],\n",
       "       [3.67813750e-01, 3.46839870e+01, 1.00365081e+01, 9.59504396e+00],\n",
       "       [3.16540465e-01, 3.48686141e+01, 1.00899336e+01, 9.64611954e+00],\n",
       "       [2.72414680e-01, 3.50275041e+01, 1.01359116e+01, 9.69007517e+00],\n",
       "       [2.34440037e-01, 3.51642448e+01, 1.01754803e+01, 9.72790338e+00],\n",
       "       [2.01759064e-01, 3.52819238e+01, 1.02095331e+01, 9.76045833e+00],\n",
       "       [1.73633823e-01, 3.53831984e+01, 1.02388389e+01, 9.78847512e+00],\n",
       "       [1.49429244e-01, 3.54703553e+01, 1.02640595e+01, 9.81258636e+00],\n",
       "       [1.28598787e-01, 3.55453625e+01, 1.02857643e+01, 9.83333650e+00],\n",
       "       [1.10672099e-01, 3.56099137e+01, 1.03044435e+01, 9.85119406e+00],\n",
       "       [9.52443931e-02, 3.56654664e+01, 1.03205188e+01, 9.86656228e+00],\n",
       "       [8.19673142e-02, 3.57132751e+01, 1.03343532e+01, 9.87978816e+00],\n",
       "       [7.05410597e-02, 3.57544192e+01, 1.03462591e+01, 9.89117035e+00],\n",
       "       [6.07076264e-02, 3.57898279e+01, 1.03565053e+01, 9.90096587e+00],\n",
       "       [5.22449756e-02, 3.58203005e+01, 1.03653232e+01, 9.90939588e+00],\n",
       "       [4.49620195e-02, 3.58465253e+01, 1.03729119e+01, 9.91665076e+00],\n",
       "       [3.86943080e-02, 3.58690944e+01, 1.03794427e+01, 9.92289430e+00],\n",
       "       [3.33003164e-02, 3.58885173e+01, 1.03850631e+01, 9.92826749e+00],\n",
       "       [2.86582480e-02, 3.59052326e+01, 1.03899000e+01, 9.93289166e+00],\n",
       "       [2.46632845e-02, 3.59196179e+01, 1.03940627e+01, 9.93687122e+00],\n",
       "       [2.12252195e-02, 3.59319978e+01, 1.03976450e+01, 9.94029603e+00],\n",
       "       [1.82664214e-02, 3.59426520e+01, 1.04007280e+01, 9.94324342e+00],\n",
       "       [1.57200799e-02, 3.59518209e+01, 1.04033813e+01, 9.94577994e+00],\n",
       "       [1.35286986e-02, 3.59597118e+01, 1.04056646e+01, 9.94796287e+00],\n",
       "       [1.16427965e-02, 3.59665026e+01, 1.04076297e+01, 9.94984150e+00],\n",
       "       [1.00197892e-02, 3.59723468e+01, 1.04093208e+01, 9.95145825e+00],\n",
       "       [8.62302920e-03, 3.59773763e+01, 1.04107762e+01, 9.95284962e+00],\n",
       "       [7.42097781e-03, 3.59817047e+01, 1.04120287e+01, 9.95404704e+00],\n",
       "       [6.38649267e-03, 3.59854297e+01, 1.04131066e+01, 9.95507753e+00]])"
      ]
     },
     "execution_count": 9,
     "metadata": {},
     "output_type": "execute_result"
    }
   ],
   "source": [
    "Y_out_PS"
   ]
  },
  {
   "cell_type": "code",
   "execution_count": 10,
   "metadata": {},
   "outputs": [
    {
     "data": {
      "text/plain": [
       "Text(0.5, 1.0, 'Plastic Mass vs. Time for Overall Kinetics Reaction')"
      ]
     },
     "execution_count": 10,
     "metadata": {},
     "output_type": "execute_result"
    },
    {
     "data": {
      "image/png": "[encoded data removed]",
      "text/plain": [
       "<Figure size 720x720 with 1 Axes>"
      ]
     },
     "metadata": {
      "needs_background": "light"
     },
     "output_type": "display_data"
    }
   ],
   "source": [
    "#Plotting the Concentrations of the Reactant and Products\n",
    "fig, ax = plt.subplots(figsize=(10,10))\n",
    "ax.plot(t_interval, Y_out_PS)\n",
    "ax.legend(['Polystyrene', 'Styrene', 'Benzene', 'Toluene'])\n",
    "ax.set_ylabel('Plastic Mass (kg)')\n",
    "ax.set_xlabel('Time (s)')\n",
    "ax.set_title('Plastic Mass vs. Time for Overall Kinetics Reaction')"
   ]
  },
  {
   "cell_type": "code",
   "execution_count": null,
   "metadata": {},
   "outputs": [],
   "source": []
  }
 ],
 "metadata": {
  "kernelspec": {
   "display_name": "Python 3",
   "language": "python",
   "name": "python3"
  },
  "language_info": {
   "codemirror_mode": {
    "name": "ipython",
    "version": 3
   },
   "file_extension": ".py",
   "mimetype": "text/x-python",
   "name": "python",
   "nbconvert_exporter": "python",
   "pygments_lexer": "ipython3",
   "version": "3.7.7"
  }
 },
 "nbformat": 4,
 "nbformat_minor": 4
}
