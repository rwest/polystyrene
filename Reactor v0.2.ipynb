{
 "cells": [
  {
   "cell_type": "code",
   "execution_count": 1,
   "metadata": {},
   "outputs": [],
   "source": [
    "import numpy as np\n",
    "import matplotlib.pyplot as plt\n",
    "from scipy.integrate import odeint\n",
    "import math"
   ]
  },
  {
   "cell_type": "markdown",
   "metadata": {},
   "source": [
    "The three reactions to be simulated:\n",
    "\n",
    "Polystyrene -> Styrene\n",
    "\n",
    "Polystyrene -> Toluene\n",
    "\n",
    "Polystyrene -> Ethylbenzene (Benzene)\n",
    "\n",
    "Brian Lejeune/Prof. West"
   ]
  },
  {
   "cell_type": "code",
   "execution_count": 2,
   "metadata": {},
   "outputs": [],
   "source": [
    "#Polystyrene Properties\n",
    "\n",
    "PS_MW = 311600\n",
    "PS_Polydisperity = 2.39\n",
    "PS_Density = 1030 #kg/m^3\n",
    "PS_HeatVal = 49 #MJ/kg\n",
    "\n",
    "#Source Paper Reactor Properties\n",
    "\n",
    "Rctr_Pressure = 10^(-1) #Pa\n",
    "Rctr_TempLow = 613 #K\n",
    "Rctr_TempHigh = 663 #K\n",
    "Rctr_HeatRate1 = 3.33E-2\n",
    "Rctr_HeatRate2 = 8.03E-2\n",
    "Rctr_HeatRate3 = 1.67E-1\n",
    "\n",
    "Rctr_Ht = 0.34 #m\n",
    "Rctr_Hc = 0.205 #m\n",
    "Rctr_gam = 28\n",
    "Rctr_Dc = 0.123 #m\n",
    "Rctr_Di = 0.02 #m\n",
    "Rctr_Do = 0.01 #m\n",
    "\n",
    "#Our Reactor Properties\n",
    "Pyrocycle_T = 723.15 #K\n",
    "\n",
    "#Kinetic Properties\n",
    "\n",
    "PS_Ea = 83 #kJ/mol\n",
    "PS_ko = 1.82E4 #s^-1\n",
    "\n",
    "Sty_Ea = 132 #kJ/mol\n",
    "Sty_ko = 5.08E7 #s^-1\n",
    "Sty_mass = 104.15 # g/mol\n",
    "\n",
    "Met_Ea = 126 #kJ/mol\n",
    "Met_ko = 2.1E7 #s^-1\n",
    "Met_mass = 16.04 # g/mol\n",
    "\n",
    "Ben_Ea = 123 #kJ/mol\n",
    "Ben_ko = 1.47E7 #s^-1\n",
    "Ben_mass = 78.11 # g/mol\n",
    "\n",
    "Tol_Ea = 122 #kJ/mol\n",
    "Tol_ko = 1.19E7 #s^-1\n",
    "Tol_mass = 92.14 # g/mol\n",
    "\n",
    "#Constants\n",
    "R = 8.314E-3 #kJ/K*mol"
   ]
  },
  {
   "cell_type": "code",
   "execution_count": 3,
   "metadata": {},
   "outputs": [],
   "source": [
    "#Reaction Rate Calculations for Individual Products\n",
    "\n",
    "def PSReaction(PS):\n",
    "    k = PS_ko * math.exp(-1 * PS_Ea/(R * Pyrocycle_T))\n",
    "    return k * PS\n",
    "\n",
    "def StyReaction(PS):\n",
    "    k = Sty_ko * math.exp(-1 * Sty_Ea/(R * Pyrocycle_T))\n",
    "    return k * PS\n",
    "\n",
    "def MetReaction(PS):\n",
    "    k = Met_ko * math.exp(-1 * Met_Ea/(R * Pyrocycle_T))\n",
    "    return k * PS\n",
    "\n",
    "def BenReaction(PS):\n",
    "    k = Ben_ko * math.exp(-1 * Ben_Ea/(R * Pyrocycle_T))\n",
    "    return k * PS\n",
    "\n",
    "def TolReaction(PS):\n",
    "    k = Tol_ko * math.exp(-1 * Tol_Ea/(R * Pyrocycle_T))\n",
    "    return k * PS"
   ]
  },
  {
   "cell_type": "code",
   "execution_count": 4,
   "metadata": {},
   "outputs": [
    {
     "data": {
      "text/plain": [
       "0.014821177767498743"
      ]
     },
     "execution_count": 4,
     "metadata": {},
     "output_type": "execute_result"
    }
   ],
   "source": [
    "T = Pyrocycle_T\n",
    "Sty_ko * math.exp(-1*Sty_Ea/(R*T))"
   ]
  },
  {
   "cell_type": "code",
   "execution_count": 5,
   "metadata": {},
   "outputs": [
    {
     "data": {
      "text/plain": [
       "0.014821177767498743"
      ]
     },
     "execution_count": 5,
     "metadata": {},
     "output_type": "execute_result"
    }
   ],
   "source": [
    "StyReaction(1)"
   ]
  },
  {
   "cell_type": "code",
   "execution_count": 6,
   "metadata": {},
   "outputs": [
    {
     "data": {
      "text/plain": [
       "0.0191623460782514"
      ]
     },
     "execution_count": 6,
     "metadata": {},
     "output_type": "execute_result"
    }
   ],
   "source": [
    "BenReaction(1)"
   ]
  },
  {
   "cell_type": "code",
   "execution_count": 7,
   "metadata": {},
   "outputs": [],
   "source": [
    "#Reaction Kinetics for Overall Reaction\n",
    "\n",
    "def TotalReaction(C_array, t):\n",
    "    PS = C_array[0]\n",
    "    \n",
    "    #Establishing Reaction Rates from initial PS feed\n",
    "    Sty_r = StyReaction(PS)\n",
    "    #Met_r = MetReaction(PS)\n",
    "    Ben_r = BenReaction(PS)\n",
    "    Tol_r = TolReaction(PS)\n",
    "    \n",
    "    #Obtaining Rate of Generation for each species\n",
    "    \n",
    "    #dPSdt = -1 * (Sty_r + Ben_r + Tol_r)\n",
    "    dPSdt = -1 * PSReaction(PS)\n",
    "    dStydt = Sty_r\n",
    "    #dMetdt = Met_r\n",
    "    dBendt = Ben_r\n",
    "    dToldt = Tol_r\n",
    "    \n",
    "    return [dPSdt, dStydt, dBendt, dToldt]"
   ]
  },
  {
   "cell_type": "code",
   "execution_count": 8,
   "metadata": {},
   "outputs": [],
   "source": [
    "#Integrating Overall Reaction\n",
    "\n",
    "W_initial = [10, 0, 0, 0]\n",
    "t_interval = np.linspace(0,40)\n",
    "\n",
    "Y_out_PS = odeint(TotalReaction, W_initial, t_interval)"
   ]
  },
  {
   "cell_type": "code",
   "execution_count": 9,
   "metadata": {},
   "outputs": [
    {
     "data": {
      "text/plain": [
       "array([[10.        ,  0.        ,  0.        ,  0.        ],\n",
       "       [ 9.85099563,  0.12008557,  0.155259  ,  0.1484298 ],\n",
       "       [ 9.7042115 ,  0.23838179,  0.30820455,  0.29464792],\n",
       "       [ 9.55961452,  0.35491536,  0.45887115,  0.43868732],\n",
       "       [ 9.4171721 ,  0.46971252,  0.60729275,  0.58058048],\n",
       "       [ 9.27685214,  0.58279915,  0.75350281,  0.72035936],\n",
       "       [ 9.138623  ,  0.69420075,  0.89753427,  0.85805548],\n",
       "       [ 9.00245353,  0.80394241,  1.0394196 ,  0.99369987],\n",
       "       [ 8.86831305,  0.91204887,  1.17919077,  1.12732309],\n",
       "       [ 8.73617133,  1.0185445 ,  1.3168793 ,  1.25895527],\n",
       "       [ 8.60599857,  1.1234533 ,  1.4525162 ,  1.38862608],\n",
       "       [ 8.47776544,  1.22679891,  1.58613206,  1.51636473],\n",
       "       [ 8.35144304,  1.32860463,  1.71775698,  1.64220002],\n",
       "       [ 8.2270029 ,  1.42889339,  1.84742064,  1.76616031],\n",
       "       [ 8.10441698,  1.52768781,  1.97515225,  1.88827354],\n",
       "       [ 7.98365764,  1.62501015,  2.10098059,  2.00856723],\n",
       "       [ 7.86469766,  1.72088234,  2.22493404,  2.12706848],\n",
       "       [ 7.74751025,  1.815326  ,  2.34704054,  2.24380402],\n",
       "       [ 7.63206897,  1.9083624 ,  2.46732759,  2.35880015],\n",
       "       [ 7.51834782,  2.00001253,  2.58582232,  2.47208278],\n",
       "       [ 7.40632116,  2.09029703,  2.70255142,  2.58367746],\n",
       "       [ 7.29596374,  2.17923625,  2.81754121,  2.69360933],\n",
       "       [ 7.1872507 ,  2.26685023,  2.9308176 ,  2.80190317],\n",
       "       [ 7.08015753,  2.35315873,  3.04240613,  2.90858338],\n",
       "       [ 6.9746601 ,  2.4381812 ,  3.15233193,  3.01367401],\n",
       "       [ 6.87073463,  2.52193679,  3.2606198 ,  3.11719874],\n",
       "       [ 6.76835768,  2.60444439,  3.36729412,  3.21918091],\n",
       "       [ 6.6675062 ,  2.6857226 ,  3.47237896,  3.3196435 ],\n",
       "       [ 6.56815745,  2.76578972,  3.57589799,  3.41860916],\n",
       "       [ 6.47028904,  2.8446638 ,  3.67787453,  3.51610018],\n",
       "       [ 6.37387892,  2.92236263,  3.77833158,  3.61213854],\n",
       "       [ 6.27890534,  2.9989037 ,  3.87729177,  3.70674589],\n",
       "       [ 6.18534692,  3.07430429,  3.97477742,  3.79994355],\n",
       "       [ 6.09318255,  3.14858137,  4.07081049,  3.89175252],\n",
       "       [ 6.00239148,  3.22175169,  4.16541262,  3.9821935 ],\n",
       "       [ 5.91295323,  3.29383174,  4.25860514,  4.07128687],\n",
       "       [ 5.82484765,  3.36483777,  4.35040905,  4.15905271],\n",
       "       [ 5.73805488,  3.43478578,  4.44084504,  4.2455108 ],\n",
       "       [ 5.65255536,  3.50369153,  4.5299335 ,  4.33068063],\n",
       "       [ 5.56832983,  3.57157055,  4.61769449,  4.41458139],\n",
       "       [ 5.48535929,  3.63843815,  4.70414782,  4.49723199],\n",
       "       [ 5.40362504,  3.70430939,  4.78931295,  4.57865106],\n",
       "       [ 5.32310868,  3.76919912,  4.87320908,  4.65885695],\n",
       "       [ 5.24379204,  3.83312197,  4.95585512,  4.73786774],\n",
       "       [ 5.16565725,  3.89609234,  5.0372697 ,  4.81570123],\n",
       "       [ 5.08868671,  3.95812442,  5.11747117,  4.89237498],\n",
       "       [ 5.01286306,  4.0192322 ,  5.1964776 ,  4.96790624],\n",
       "       [ 4.93816921,  4.07942944,  5.27430681,  5.04231206],\n",
       "       [ 4.86458834,  4.13872972,  5.35097632,  5.1156092 ],\n",
       "       [ 4.79210385,  4.1971464 ,  5.42650342,  5.18781419]])"
      ]
     },
     "execution_count": 9,
     "metadata": {},
     "output_type": "execute_result"
    }
   ],
   "source": [
    "Y_out_PS"
   ]
  },
  {
   "cell_type": "code",
   "execution_count": 10,
   "metadata": {},
   "outputs": [
    {
     "data": {
      "text/plain": [
       "Text(0.5, 1.0, 'Plastic Mass vs. Time for Overall Kinetics Reaction')"
      ]
     },
     "execution_count": 10,
     "metadata": {},
     "output_type": "execute_result"
    },
    {
     "data": {
      "image/png": "[encoded data removed]",
      "text/plain": [
       "<Figure size 720x720 with 1 Axes>"
      ]
     },
     "metadata": {
      "needs_background": "light"
     },
     "output_type": "display_data"
    }
   ],
   "source": [
    "#Plotting the Concentrations of the Reactant and Products\n",
    "fig, ax = plt.subplots(figsize=(10,10))\n",
    "ax.plot(t_interval, Y_out_PS)\n",
    "ax.legend(['Polystyrene', 'Styrene', 'Benzene', 'Toluene'])\n",
    "ax.set_ylabel('Plastic Mass (kg)')\n",
    "ax.set_xlabel('Time (s)')\n",
    "ax.set_title('Plastic Mass vs. Time for Overall Kinetics Reaction')"
   ]
  },
  {
   "cell_type": "code",
   "execution_count": null,
   "metadata": {},
   "outputs": [],
   "source": []
  }
 ],
 "metadata": {
  "kernelspec": {
   "display_name": "Python 3",
   "language": "python",
   "name": "python3"
  },
  "language_info": {
   "codemirror_mode": {
    "name": "ipython",
    "version": 3
   },
   "file_extension": ".py",
   "mimetype": "text/x-python",
   "name": "python",
   "nbconvert_exporter": "python",
   "pygments_lexer": "ipython3",
   "version": "3.7.7"
  }
 },
 "nbformat": 4,
 "nbformat_minor": 4
}
