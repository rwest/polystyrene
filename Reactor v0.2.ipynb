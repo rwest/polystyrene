{
 "cells": [
  {
   "cell_type": "code",
   "execution_count": 1,
   "metadata": {},
   "outputs": [],
   "source": [
    "import numpy as np\n",
    "import matplotlib.pyplot as plt\n",
    "from scipy.integrate import odeint\n",
    "import math"
   ]
  },
  {
   "cell_type": "markdown",
   "metadata": {},
   "source": [
    "The three reactions to be simulated:\n",
    "\n",
    "Polystyrene -> Styrene\n",
    "\n",
    "Polystyrene -> Toluene\n",
    "\n",
    "Polystyrene -> Ethylbenzene (Benzene)\n",
    "\n",
    "Brian Lejeune/Prof. West"
   ]
  },
  {
   "cell_type": "code",
   "execution_count": 2,
   "metadata": {},
   "outputs": [],
   "source": [
    "#Polystyrene Properties\n",
    "\n",
    "PS_MW = 311600\n",
    "PS_Polydisperity = 2.39\n",
    "PS_Density = 1030 #kg/m^3\n",
    "PS_HeatVal = 49 #MJ/kg\n",
    "\n",
    "#Source Paper Reactor Properties\n",
    "\n",
    "Rctr_Pressure = 10^(-1) #Pa\n",
    "Rctr_TempLow = 613 #K\n",
    "Rctr_TempHigh = 663 #K\n",
    "Rctr_HeatRate1 = 3.33E-2\n",
    "Rctr_HeatRate2 = 8.03E-2\n",
    "Rctr_HeatRate3 = 1.67E-1\n",
    "\n",
    "Rctr_Ht = 0.34 #m\n",
    "Rctr_Hc = 0.205 #m\n",
    "Rctr_gam = 28\n",
    "Rctr_Dc = 0.123 #m\n",
    "Rctr_Di = 0.02 #m\n",
    "Rctr_Do = 0.01 #m\n",
    "\n",
    "#Our Reactor Properties\n",
    "Pyrocycle_T = 623.15 #K\n",
    "\n",
    "#Kinetic Properties\n",
    "\n",
    "PS_Ea = 83 #kJ/mol\n",
    "PS_ko = 1.82E4 #s^-1\n",
    "\n",
    "Sty_Ea = 132 #kJ/mol\n",
    "Sty_ko = 5.08E7 #s^-1\n",
    "\n",
    "Met_Ea = 126 #kJ/mol\n",
    "Met_ko = 2.1E7 #s^-1\n",
    "\n",
    "Ben_Ea = 123 #kJ/mol\n",
    "Ben_ko = 1.47E7 #s^-1\n",
    "\n",
    "Tol_Ea = 122 #kJ/mol\n",
    "Tol_ko = 1.19E7 #s^-1\n",
    "\n",
    "#Constants\n",
    "R = 8.314E-3 #kJ/K*mol"
   ]
  },
  {
   "cell_type": "code",
   "execution_count": 3,
   "metadata": {},
   "outputs": [],
   "source": [
    "#Reaction Rate Calculations for Individual Products\n",
    "\n",
    "def PSReaction(C_int):\n",
    "    PS = C_int\n",
    "    \n",
    "    r = PS_ko * math.e**(-1 * PS_Ea/(R * Pyrocycle_T)) * PS\n",
    "    \n",
    "    return r\n",
    "\n",
    "def StyReaction(C_int):\n",
    "    PS = C_int\n",
    "    \n",
    "    r = Sty_ko * math.e**(-1 * Sty_Ea/(R * Pyrocycle_T)) * PS\n",
    "    \n",
    "    return r\n",
    "\n",
    "def MetReaction(C_int):\n",
    "    PS = C_int\n",
    "    \n",
    "    r = Met_ko * math.e**(-1 * Met_Ea/(R * Pyrocycle_T)) * PS\n",
    "    \n",
    "    return r\n",
    "\n",
    "def BenReaction(C_int):\n",
    "    PS = C_int\n",
    "    \n",
    "    r = Ben_ko * math.e**(-1 * Ben_Ea/(R * Pyrocycle_T)) * PS\n",
    "    \n",
    "    return r\n",
    "\n",
    "def TolReaction(C_int):\n",
    "    PS = C_int\n",
    "    \n",
    "    r = Tol_ko * math.e**(-1 * Tol_Ea/(R * Pyrocycle_T)) * PS\n",
    "    \n",
    "    return r"
   ]
  },
  {
   "cell_type": "code",
   "execution_count": 4,
   "metadata": {},
   "outputs": [],
   "source": [
    "#Reaction Kinetics for Overall Reaction\n",
    "\n",
    "def TotalReaction(C_array,t):\n",
    "    PS = C_array[0]\n",
    "    \n",
    "    #Establishing Reaction Rates from initial PS feed\n",
    "    \n",
    "    Sty_r = StyReaction(PS)\n",
    "    #Met_r = MetReaction(PS)\n",
    "    Ben_r = BenReaction(PS)\n",
    "    Tol_r = TolReaction(PS)\n",
    "    \n",
    "    #Obtaining Rate of Generation for each species\n",
    "    \n",
    "    dPSdt = -1 * Sty_r - Ben_r - Tol_r\n",
    "    dStydt = Sty_r\n",
    "    #dMetdt = Met_r\n",
    "    dBendt = Ben_r\n",
    "    dToldt = Tol_r\n",
    "    \n",
    "    return [dPSdt, dStydt, dBendt, dToldt]"
   ]
  },
  {
   "cell_type": "code",
   "execution_count": 5,
   "metadata": {},
   "outputs": [],
   "source": [
    "#Integrating Overall Reaction\n",
    "\n",
    "W_initial = [10, 0, 0, 0]\n",
    "t_interval = np.linspace(0,1000)\n",
    "\n",
    "Y_out_PS = odeint(TotalReaction, W_initial, t_interval)"
   ]
  },
  {
   "cell_type": "code",
   "execution_count": 6,
   "metadata": {},
   "outputs": [
    {
     "data": {
      "text/plain": [
       "array([[10.        ,  0.        ,  0.        ,  0.        ],\n",
       "       [ 9.62713251,  0.08756593,  0.14395538,  0.14134619],\n",
       "       [ 9.26816807,  0.1718668 ,  0.28254312,  0.27742202],\n",
       "       [ 8.92258825,  0.25302436,  0.41596337,  0.40842402],\n",
       "       [ 8.58989397,  0.33115583,  0.54440881,  0.53454139],\n",
       "       [ 8.26960478,  0.40637402,  0.66806494,  0.65595626],\n",
       "       [ 7.96125813,  0.47878758,  0.78711034,  0.77284395],\n",
       "       [ 7.66440873,  0.54850106,  0.90171692,  0.88537329],\n",
       "       [ 7.37862789,  0.61561516,  1.01205019,  0.99370676],\n",
       "       [ 7.10350288,  0.68022679,  1.11826949,  1.09800084],\n",
       "       [ 6.83863637,  0.74242927,  1.22052823,  1.19840614],\n",
       "       [ 6.58364586,  0.80231242,  1.31897407,  1.29506765],\n",
       "       [ 6.33816313,  0.85996272,  1.41374919,  1.38812496],\n",
       "       [ 6.10183364,  0.91546343,  1.50499045,  1.47771248],\n",
       "       [ 5.87431612,  0.9688947 ,  1.59282962,  1.56395956],\n",
       "       [ 5.65528199,  1.02033369,  1.67739356,  1.64699077],\n",
       "       [ 5.44441492,  1.06985468,  1.75880437,  1.72692602],\n",
       "       [ 5.24141041,  1.1175292 ,  1.83717965,  1.80388074],\n",
       "       [ 5.04597527,  1.1634261 ,  1.91263256,  1.87796607],\n",
       "       [ 4.85782727,  1.20761164,  1.98527208,  1.949289  ],\n",
       "       [ 4.6766947 ,  1.25014965,  2.05520312,  2.01795253],\n",
       "       [ 4.50231598,  1.29110156,  2.12252664,  2.08405582],\n",
       "       [ 4.33443927,  1.3305265 ,  2.1873399 ,  2.14769433],\n",
       "       [ 4.17282213,  1.36848142,  2.24973648,  2.20895997],\n",
       "       [ 4.01723117,  1.40502112,  2.30980649,  2.26794121],\n",
       "       [ 3.86744169,  1.44019838,  2.36763669,  2.32472324],\n",
       "       [ 3.72323736,  1.47406399,  2.42331059,  2.37938805],\n",
       "       [ 3.58440996,  1.50666686,  2.47690859,  2.43201459],\n",
       "       [ 3.45075897,  1.53805407,  2.5285081 ,  2.48267885],\n",
       "       [ 3.32209139,  1.56827096,  2.57818363,  2.53145401],\n",
       "       [ 3.19822141,  1.59736116,  2.62600692,  2.5784105 ],\n",
       "       [ 3.07897014,  1.62536668,  2.67204703,  2.62361614],\n",
       "       [ 2.96416536,  1.65232797,  2.71637046,  2.66713621],\n",
       "       [ 2.85364128,  1.67828396,  2.75904121,  2.70903355],\n",
       "       [ 2.74723828,  1.70327213,  2.80012091,  2.74936868],\n",
       "       [ 2.6448027 ,  1.72732858,  2.83966888,  2.78819984],\n",
       "       [ 2.54618661,  1.75048803,  2.87774224,  2.82558312],\n",
       "       [ 2.45124759,  1.77278395,  2.91439596,  2.86157249],\n",
       "       [ 2.35984854,  1.79424853,  2.94968299,  2.89621994],\n",
       "       [ 2.27185747,  1.81491276,  2.98365428,  2.9295755 ],\n",
       "       [ 2.1871473 ,  1.83480649,  3.01635888,  2.96168733],\n",
       "       [ 2.10559569,  1.85395845,  3.04784404,  2.99260182],\n",
       "       [ 2.02708487,  1.87239629,  3.07815522,  3.02236361],\n",
       "       [ 1.95150147,  1.89014664,  3.1073362 ,  3.05101568],\n",
       "       [ 1.87873633,  1.90723515,  3.13542911,  3.07859941],\n",
       "       [ 1.80868436,  1.92368647,  3.16247453,  3.10515463],\n",
       "       [ 1.74124441,  1.93952439,  3.18851151,  3.13071969],\n",
       "       [ 1.67631907,  1.95477175,  3.21357766,  3.15533152],\n",
       "       [ 1.61381458,  1.9694506 ,  3.23770917,  3.17902565],\n",
       "       [ 1.55364069,  1.98358211,  3.2609409 ,  3.2018363 ]])"
      ]
     },
     "execution_count": 6,
     "metadata": {},
     "output_type": "execute_result"
    }
   ],
   "source": [
    "Y_out_PS"
   ]
  },
  {
   "cell_type": "code",
   "execution_count": 7,
   "metadata": {},
   "outputs": [
    {
     "data": {
      "text/plain": [
       "Text(0.5, 1.0, 'Plastic Mass vs. Time for Overall Kinetics Reaction')"
      ]
     },
     "execution_count": 7,
     "metadata": {},
     "output_type": "execute_result"
    },
    {
     "data": {
      "image/png": "[encoded data removed]",
      "text/plain": [
       "<Figure size 720x720 with 1 Axes>"
      ]
     },
     "metadata": {
      "needs_background": "light"
     },
     "output_type": "display_data"
    }
   ],
   "source": [
    "#Plotting the Concentrations of the Reactant and Products\n",
    "fig, ax = plt.subplots(figsize=(10,10))\n",
    "ax.plot(t_interval, Y_out_PS)\n",
    "ax.legend(['Polystyrene', 'Styrene', 'Benzene', 'Toluene'])\n",
    "ax.set_ylabel('Plastic Mass (kg)')\n",
    "ax.set_xlabel('Time (s)')\n",
    "ax.set_title('Plastic Mass vs. Time for Overall Kinetics Reaction')"
   ]
  },
  {
   "cell_type": "code",
   "execution_count": null,
   "metadata": {},
   "outputs": [],
   "source": []
  }
 ],
 "metadata": {
  "kernelspec": {
   "display_name": "Python 3",
   "language": "python",
   "name": "python3"
  },
  "language_info": {
   "codemirror_mode": {
    "name": "ipython",
    "version": 3
   },
   "file_extension": ".py",
   "mimetype": "text/x-python",
   "name": "python",
   "nbconvert_exporter": "python",
   "pygments_lexer": "ipython3",
   "version": "3.7.7"
  }
 },
 "nbformat": 4,
 "nbformat_minor": 4
}
